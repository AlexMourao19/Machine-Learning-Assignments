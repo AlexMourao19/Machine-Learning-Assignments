{
  "cells": [
    {
      "cell_type": "markdown",
      "metadata": {
        "id": "view-in-github",
        "colab_type": "text"
      },
      "source": [
        "<a href=\"https://colab.research.google.com/github/AlexMourao19/Machine-Learning-Assignments/blob/main/ML_Assignment_2.ipynb\" target=\"_parent\"><img src=\"https://colab.research.google.com/assets/colab-badge.svg\" alt=\"Open In Colab\"/></a>"
      ]
    },
    {
      "cell_type": "markdown",
      "id": "32620509",
      "metadata": {
        "id": "32620509"
      },
      "source": [
        "# Assignment 2"
      ]
    },
    {
      "cell_type": "markdown",
      "source": [],
      "metadata": {
        "id": "zbyb4rD6tDc0"
      },
      "id": "zbyb4rD6tDc0"
    },
    {
      "cell_type": "markdown",
      "id": "c03c866e",
      "metadata": {
        "id": "c03c866e"
      },
      "source": [
        "## 1. Generative classifiers"
      ]
    },
    {
      "cell_type": "markdown",
      "source": [
        "Alexnadre Araújo Pires Mourão - up201905967\n",
        "\n",
        "Rúben Miguel Gomes Santos – up201905773\n"
      ],
      "metadata": {
        "id": "mAp2ps5ytKEc"
      },
      "id": "mAp2ps5ytKEc"
    },
    {
      "cell_type": "markdown",
      "id": "38343624",
      "metadata": {
        "id": "38343624"
      },
      "source": [
        "Consider a classification problem with a target variable $y \\in \\{0, 1\\}$ and input features $\\boldsymbol{x} = (x_1\\; x_2\\; x_3\\; x_4)^T$, where $x_1 \\in \\{0, 1\\}$, $x_2 \\in \\{0, 1\\}$, and $(x_3, x_4) \\in \\mathbb{R}^2$. Further assume that:\n",
        "- $(x_1, x_2)$ is conditionally independent of $(x_3, x_4)$ given $y$;\n",
        "- $x_1$ and $x_2$ are **dependent** given $y$;\n",
        "- $x_3$ and $x_4$ are **dependent** given $y$;\n",
        "- the conditional distributions of $(x_3, x_4)$ given $y$ are Gaussian."
      ]
    },
    {
      "cell_type": "markdown",
      "id": "84c2977c",
      "metadata": {
        "id": "84c2977c"
      },
      "source": [
        "### 1.1"
      ]
    },
    {
      "cell_type": "markdown",
      "id": "e6081895",
      "metadata": {
        "id": "e6081895"
      },
      "source": [
        "**a)** Enumerate the parameters of the MAP classifier: $$\\hat{y} = \\text{arg} \\max_{y \\in \\{0, 1\\}} p(y)p(\\boldsymbol{x} \\mid y),$$ and indicate the dimension of each parameter."
      ]
    },
    {
      "cell_type": "markdown",
      "id": "5K1QdYEFKe0I",
      "metadata": {
        "id": "5K1QdYEFKe0I"
      },
      "source": [
        "**Parametros:**\n",
        "\n",
        "*   **$p(y)$**, tem dimensão 1 pois $p(y = 0) + p(y = 1) = 1$.\n",
        "\n",
        " **Para $p(x|y)$ visto que $p(x_1, x_2)$ são independentes de $p(x_3, x_4)$ então o MAP classifer fica:**\n",
        " $$\\hat{y} = \\text{arg} \\max_{y \\in \\{0, 1\\}} p(y)p(\\boldsymbol{x_1, x_2} \\mid y)p(\\boldsymbol{x_3, x_4} \\mid y).$$ Logo:\n",
        "\n",
        "\n",
        "*   **$p(x_1, x_2|y)$** tem dimensão 6, pois $p(x_1, x_2)$, calculado as combinações de probablidade possíveis, $(2^2 = 4)$, para $p(y = 0)$ e $p(y = 1)$, $(2^2*2)$ , mas na verdade como a soma das probabilidades das combinações tem de ser 1, então a dimensão de $p(x_1, x_2|y)$ é: $(2-1)^2*2 = 6$\n",
        "\n",
        "*  Por fim **$p(x_3, x_4|y)$**, tem dimensão 10, pois vamos ter a média de cada $x$, ou seja 4 parâmetros, e a sua matriz da covariância, que teoreticamente seria 8 para $p(y=0)$ e $p(y=1)$ mas como $σ_{12} = σ_{21}$, então precisamos de estimar 3 parâmetros para cada caso, logo são 6 parâremtros para as covariâncias mais 4 das médias.\n",
        "\n",
        "**No total precisamos de estimar 17 parâmetros.**\n",
        "\n",
        "\n"
      ]
    },
    {
      "cell_type": "markdown",
      "id": "41873490",
      "metadata": {
        "id": "41873490"
      },
      "source": [
        "**b)** Given a dataset $\\{(\\boldsymbol{x}^{(i)}, y^{(i)})\\}_{i=1}^n$, write the expressions for the maximum likelihood estimates of the parameters enumerated in the previous question."
      ]
    },
    {
      "cell_type": "markdown",
      "id": "YhqfUd0ETTWE",
      "metadata": {
        "id": "YhqfUd0ETTWE"
      },
      "source": [
        "![Captura de ecrã_20221122_172822.png](data:image/png;base64,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)\n"
      ]
    },
    {
      "cell_type": "markdown",
      "id": "2c45eaf5",
      "metadata": {
        "id": "2c45eaf5"
      },
      "source": [
        "### 1.2"
      ]
    },
    {
      "cell_type": "markdown",
      "id": "9823efc7",
      "metadata": {
        "id": "9823efc7"
      },
      "source": [
        "Now, you will implement this classifier in Python. The classifier skeleton is provided below in the class `Classifier`. You may implement additional auxiliary methods that you find useful."
      ]
    },
    {
      "cell_type": "code",
      "execution_count": null,
      "id": "12ed9dc4",
      "metadata": {
        "id": "12ed9dc4"
      },
      "outputs": [],
      "source": [
        "import numpy as np\n",
        "from scipy.stats import multivariate_normal\n",
        "class Classifier:\n",
        "    def fit(self, X, y):\n",
        "        '''\n",
        "        Inputs:\n",
        "            X - np.array with shape (num_examples_train, 4)\n",
        "            y - np.array with shape (num_examples_train,)\n",
        "        '''\n",
        "        ###\n",
        "        # YOUR CODE HERE\n",
        "        assert X.shape[1] == 4\n",
        "\n",
        "        self.covs, self.means=[], []\n",
        "\n",
        "        self.priors=np.zeros(2)\n",
        "        print(self.priors)\n",
        "\n",
        "        for i in range(2):\n",
        "            Xc=X[y==i]\n",
        "            mean = np.mean(Xc, axis=0)\n",
        "            cov = np.cov(Xc.T)\n",
        "            self.means.append(mean)\n",
        "            self.covs.append(cov)\n",
        "            self.priors[i] = np.sum(y==i) / len(y)\n",
        "\n",
        "\n",
        "\n",
        "        ###\n",
        "\n",
        "\n",
        "    def predict(self, X):\n",
        "        '''\n",
        "        Inputs:\n",
        "            X - np.array with shape (num_examples_test, 4)\n",
        "\n",
        "        Outputs:\n",
        "            ypred - np.array with shape (num_examples_test,)\n",
        "            posteriors - np.array with shape (num_examples_test, 2)\n",
        "        '''\n",
        "        ###\n",
        "        # YOUR CODE HERE\n",
        "\n",
        "        ########\n",
        "        assert X.shape[1] == 4\n",
        "\n",
        "        likelihood=np.full((X.shape[0],2), np.nan)\n",
        "        for i in range(2):\n",
        "            likelihood[:, i] = multivariate_normal.pdf(X, self.means[i], self.covs[i])\n",
        "\n",
        "        ########\n",
        "\n",
        "        posteriors=self.priors.reshape(1,2)*likelihood\n",
        "        posteriors=posteriors/np.sum(posteriors, axis=1).reshape(X.shape[0],1)\n",
        "\n",
        "        ypred = np.argmax(posteriors, axis=1)\n",
        "        return ypred, posteriors\n",
        "\n",
        "        #########"
      ]
    },
    {
      "cell_type": "markdown",
      "id": "6d2bf886",
      "metadata": {
        "id": "6d2bf886"
      },
      "source": [
        "**N.B.:** In both a) and b), you should avoid for loops as much as possible by using vectorized NumPy operations and broadcasting."
      ]
    },
    {
      "cell_type": "markdown",
      "id": "2fe3261d",
      "metadata": {
        "id": "2fe3261d"
      },
      "source": [
        "**a)** Implement the `fit` method, which receives as input two `np.array`s:\n",
        "- `X`, which contains the 4-dimensional training input examples $\\boldsymbol{x}^{(i)}$, one per row;\n",
        "- `y`, which contains the corresponding training labels $y^{(i)} \\in \\{0,1\\}$, one per row.\n",
        "\n",
        "This method should compute the maximum likelihood estimates of the model parameters and store them as class attributes."
      ]
    },
    {
      "cell_type": "markdown",
      "id": "314b8621",
      "metadata": {
        "id": "314b8621"
      },
      "source": [
        "**b)** Implement the `predict` method, which receives as input one `np.array`:\n",
        "- `X`, which contains the 4-dimensional examples $\\boldsymbol{x}^{(i)}$ to be classified, one per row.\n",
        "\n",
        "This function should return two `np.array`s:\n",
        "- `ypred`, which should contain the labels predicted for each $\\boldsymbol{x}^{(i)}$, one per row.\n",
        "- `posteriors`, which should contain the posterior probabilities of each class given each $\\boldsymbol{x}^{(i)}$, one per row."
      ]
    },
    {
      "cell_type": "markdown",
      "id": "93e3bcac",
      "metadata": {
        "id": "93e3bcac"
      },
      "source": [
        "If you have solved a) and b) correctly, the code below should run without errors and the reported test accuracy should be higher than 80%."
      ]
    },
    {
      "cell_type": "code",
      "execution_count": null,
      "id": "b0780e01",
      "metadata": {
        "colab": {
          "base_uri": "https://localhost:8080/",
          "height": 235
        },
        "id": "b0780e01",
        "outputId": "4adcf860-6e50-468d-8c44-34f3b4d1889b"
      },
      "outputs": [
        {
          "name": "stdout",
          "output_type": "stream",
          "text": [
            "[0. 0.]\n",
            "Example 0:\n",
            "  posteriors = [0.97740872 0.02259128]\n",
            "  predicted class = 0\n",
            "  ground-truth class = 0\n",
            "\n",
            "Example 1:\n",
            "  posteriors = [0.74882816 0.25117184]\n",
            "  predicted class = 0\n",
            "  ground-truth class = 1\n",
            "\n",
            "Example 2:\n",
            "  posteriors = [0.02663583 0.97336417]\n",
            "  predicted class = 1\n",
            "  ground-truth class = 1\n",
            "\n",
            "Test accuracy = 92.0%\n"
          ]
        }
      ],
      "source": [
        "import numpy as np\n",
        "\n",
        "# read the data from file\n",
        "data = np.genfromtxt('ex1_data.txt')\n",
        "X, y = data[:, 0:4], data[:, 4].astype(int)\n",
        "\n",
        "# use the first 400 lines for training and the remaining 100 lines for testing\n",
        "Xtrain, ytrain = X[0:400], y[0:400]\n",
        "Xtest, ytest = X[400:], y[400:]\n",
        "\n",
        "# instantiate the classifier and train it\n",
        "classifier = Classifier()\n",
        "classifier.fit(Xtrain, ytrain)\n",
        "\n",
        "# get the predictions on the test data\n",
        "ypred, posteriors = classifier.predict(Xtest)\n",
        "print('Example 0:')\n",
        "print('  posteriors =', posteriors[0])\n",
        "print('  predicted class =', ypred[0])\n",
        "print('  ground-truth class =', ytest[0])\n",
        "print()\n",
        "print('Example 1:')\n",
        "print('  posteriors =', posteriors[1])\n",
        "print('  predicted class =', ypred[1])\n",
        "print('  ground-truth class =', ytest[1])\n",
        "print()\n",
        "print('Example 2:')\n",
        "print('  posteriors =', posteriors[2])\n",
        "print('  predicted class =', ypred[2])\n",
        "print('  ground-truth class =', ytest[2])\n",
        "print()\n",
        "\n",
        "# compute the accuracy on the test set\n",
        "acc = np.mean(ypred == ytest)\n",
        "print(f'Test accuracy = {100.*acc:.1f}%')"
      ]
    },
    {
      "cell_type": "markdown",
      "id": "68ca18f0",
      "metadata": {
        "id": "68ca18f0"
      },
      "source": [
        "## 2. Logistic regression"
      ]
    },
    {
      "cell_type": "markdown",
      "id": "afc50814",
      "metadata": {
        "id": "afc50814"
      },
      "source": [
        "Consider the `heightWeightData.txt` dataset that you have used in the Lab classes. You will use this data to build a Logistic Regression classifier that predicts the sex of an individual given their height and weight."
      ]
    },
    {
      "cell_type": "markdown",
      "id": "1201ad8f",
      "metadata": {
        "id": "1201ad8f"
      },
      "source": [
        "**a)** Train a Logistic Regression classifier **using only the first 160 rows** of the dataset as training data. You may use Scikit-Learn (`sklearn.linear_model.LogisticRegression`). **Print the values of the learned parameters.**"
      ]
    },
    {
      "cell_type": "code",
      "execution_count": null,
      "id": "596173f6",
      "metadata": {
        "colab": {
          "base_uri": "https://localhost:8080/",
          "height": 380
        },
        "id": "596173f6",
        "outputId": "910390f2-9a2b-4f32-9d1f-161dd1cad671"
      },
      "outputs": [
        {
          "name": "stdout",
          "output_type": "stream",
          "text": [
            "Interception (w0):\n",
            " [-34.00288831]\n",
            "Coefficients (w1 and w2):\n",
            " [[0.15294769 0.10445359]]\n"
          ]
        }
      ],
      "source": [
        "import numpy as np\n",
        "from sklearn.linear_model import LogisticRegression\n",
        "\n",
        "data=np.genfromtxt('heightWeightData.txt', delimiter=',')\n",
        "\n",
        "y, x= data[:,0], data[:,1:]\n",
        "\n",
        "y[y==2]=0\n",
        "\n",
        "ytrain, xtrain= y[0:160], x[0:160]\n",
        "ytest, xtest= y[160:], x[160:]\n",
        "\n",
        "##########\n",
        "LogReg=LogisticRegression()\n",
        "\n",
        "LogReg.fit(xtrain,ytrain)\n",
        "\n",
        "print('Interception (w0):\\n', LogReg.intercept_)\n",
        "print('Coefficients (w1 and w2):\\n', LogReg.coef_)\n",
        "\n",
        "w0 = LogReg.intercept_\n",
        "w1 = LogReg.coef_[:, 0]\n",
        "w2 = LogReg.coef_[:, 1]"
      ]
    },
    {
      "cell_type": "markdown",
      "id": "2465b356",
      "metadata": {
        "id": "2465b356"
      },
      "source": [
        "**b)** Compute the predictions of your model in the remaining 50 rows of the dataset and report the classification accuracy of your model in this test set."
      ]
    },
    {
      "cell_type": "code",
      "execution_count": null,
      "id": "984e8b04",
      "metadata": {
        "id": "984e8b04",
        "outputId": "db517a4b-284f-40c2-abf2-98511d53abc0"
      },
      "outputs": [
        {
          "name": "stdout",
          "output_type": "stream",
          "text": [
            "Test accuracy = 92.0%\n"
          ]
        }
      ],
      "source": [
        "ypred=LogReg.predict(xtest)\n",
        "\n",
        "acc=np.mean(ypred == ytest)\n",
        "\n",
        "print(f'Test accuracy = {100.*acc:.1f}%')"
      ]
    },
    {
      "cell_type": "markdown",
      "id": "593edb81",
      "metadata": {
        "id": "593edb81"
      },
      "source": [
        "**c)** Using the parameter values printed in a), write the equation of the decision boundary of your model."
      ]
    },
    {
      "cell_type": "markdown",
      "id": "08855af7",
      "metadata": {
        "id": "08855af7"
      },
      "source": [
        "$Y = W^TX+W_0$, onde $W^T= [-34.00288831]$ e $W_0 = -34.00288831$"
      ]
    }
  ],
  "metadata": {
    "colab": {
      "provenance": [],
      "include_colab_link": true
    },
    "kernelspec": {
      "display_name": "Python 3.10.7 64-bit",
      "language": "python",
      "name": "python3"
    },
    "language_info": {
      "codemirror_mode": {
        "name": "ipython",
        "version": 3
      },
      "file_extension": ".py",
      "mimetype": "text/x-python",
      "name": "python",
      "nbconvert_exporter": "python",
      "pygments_lexer": "ipython3",
      "version": "3.10.7"
    },
    "vscode": {
      "interpreter": {
        "hash": "d2c4041fe4f4b49760bb581fc6237c2ba7db2c4bf4da6c339bf0278b3291d329"
      }
    }
  },
  "nbformat": 4,
  "nbformat_minor": 5
}